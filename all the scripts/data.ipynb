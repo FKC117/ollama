{
 "cells": [
  {
   "cell_type": "code",
   "execution_count": 1,
   "id": "67c6d322",
   "metadata": {},
   "outputs": [
    {
     "name": "stdout",
     "output_type": "stream",
     "text": [
      "🧠 Setting up Smart Model Configuration...\n",
      "📋 Available models:\n",
      "  - tinyllama:latest\n",
      "  - llama3:latest\n",
      "  - mistral:latest\n",
      "�� Selected model for analysis: llama3:latest\n",
      "✅ Smart configuration complete!\n"
     ]
    }
   ],
   "source": [
    "import requests\n",
    "import json\n",
    "import pandas as pd\n",
    "import pandasai as pai\n",
    "from pandasai_litellm.litellm import LiteLLM\n",
    "\n",
    "print(\"🧠 Setting up Smart Model Configuration...\")\n",
    "\n",
    "# Get available models and select best for analysis\n",
    "try:\n",
    "    response = requests.get(\"http://localhost:11434/api/tags\", timeout=5)\n",
    "    if response.status_code == 200:\n",
    "        data = response.json()\n",
    "        models = [model['name'] for model in data.get('models', [])]\n",
    "        print(\"📋 Available models:\")\n",
    "        for model in models:\n",
    "            print(f\"  - {model}\")\n",
    "        \n",
    "        # Select best model for data analysis (capability over speed)\n",
    "        analysis_models = ['llama3:latest', 'mistral:latest', 'tinyllama:latest']\n",
    "        selected_model = None\n",
    "        \n",
    "        for model in analysis_models:\n",
    "            if model in models:\n",
    "                selected_model = model\n",
    "                break\n",
    "        \n",
    "        if not selected_model:\n",
    "            selected_model = models[0] if models else 'mistral:latest'\n",
    "        \n",
    "        print(f\"�� Selected model for analysis: {selected_model}\")\n",
    "        \n",
    "        # Configure with smart settings\n",
    "        llm = LiteLLM(\n",
    "            model=f\"ollama/{selected_model}\",\n",
    "            api_base=\"http://localhost:11434\"\n",
    "        )\n",
    "        \n",
    "        # Smart PandasAI settings\n",
    "        pai.config.set({\n",
    "            \"llm\": llm,\n",
    "            \"verbose\": False,\n",
    "            \"enforce_privacy\": False,\n",
    "            \"max_retries\": 2,\n",
    "            \"enable_cache\": True,\n",
    "            \"save_charts\": False,\n",
    "            \"save_logs\": False,\n",
    "        })\n",
    "        \n",
    "        print(\"✅ Smart configuration complete!\")\n",
    "        \n",
    "    else:\n",
    "        print(\"❌ Ollama not accessible\")\n",
    "        \n",
    "except Exception as e:\n",
    "    print(f\"❌ Error: {e}\")"
   ]
  },
  {
   "cell_type": "code",
   "execution_count": 2,
   "id": "f5596587",
   "metadata": {},
   "outputs": [
    {
     "name": "stdout",
     "output_type": "stream",
     "text": [
      "✅ Data loaded and ready for analysis!\n"
     ]
    }
   ],
   "source": [
    "# Load your Excel file\n",
    "df = pd.read_excel(r\"D:\\Python code\\ollama\\GBM_V1.11.xlsx\")\n",
    "\n",
    "# Clean column names\n",
    "df.columns = df.columns.str.replace(' ', '_').str.replace('[^a-zA-Z0-9_]', '', regex=True)\n",
    "\n",
    "# Create PandasAI DataFrame\n",
    "df1 = pai.DataFrame(df)\n",
    "print(\"✅ Data loaded and ready for analysis!\")"
   ]
  },
  {
   "cell_type": "code",
   "execution_count": null,
   "id": "10ed892e",
   "metadata": {},
   "outputs": [],
   "source": [
    "df1.head()"
   ]
  },
  {
   "cell_type": "code",
   "execution_count": 3,
   "id": "28b56c53",
   "metadata": {},
   "outputs": [
    {
     "name": "stdout",
     "output_type": "stream",
     "text": [
      "🧠 Testing smart query...\n"
     ]
    },
    {
     "ename": "",
     "evalue": "",
     "output_type": "error",
     "traceback": [
      "\u001b[1;31mThe Kernel crashed while executing code in the current cell or a previous cell. \n",
      "\u001b[1;31mPlease review the code in the cell(s) to identify a possible cause of the failure. \n",
      "\u001b[1;31mClick <a href='https://aka.ms/vscodeJupyterKernelCrash'>here</a> for more info. \n",
      "\u001b[1;31mView Jupyter <a href='command:jupyter.viewOutput'>log</a> for further details."
     ]
    }
   ],
   "source": [
    "# Test with a natural language query\n",
    "try:\n",
    "    print(\"🧠 Testing smart query...\")\n",
    "    response = df1.chat(\"How many patients are in this dataset?\")\n",
    "    print(f\"📊 Response: {response}\")\n",
    "    print(\"✅ Smart query successful!\")\n",
    "except Exception as e:\n",
    "    print(f\"⚠️ Query test failed: {e}\")"
   ]
  }
 ],
 "metadata": {
  "kernelspec": {
   "display_name": "venv",
   "language": "python",
   "name": "python3"
  },
  "language_info": {
   "codemirror_mode": {
    "name": "ipython",
    "version": 3
   },
   "file_extension": ".py",
   "mimetype": "text/x-python",
   "name": "python",
   "nbconvert_exporter": "python",
   "pygments_lexer": "ipython3",
   "version": "3.11.2"
  }
 },
 "nbformat": 4,
 "nbformat_minor": 5
}
